{
 "cells": [
  {
   "cell_type": "markdown",
   "metadata": {
    "cellUniqueIdByVincent": "6d47d",
    "editable": false,
    "slideshow": {
     "slide_type": ""
    },
    "tags": []
   },
   "source": [
    "# Welcome to Jovyan AI"
   ]
  },
  {
   "cell_type": "markdown",
   "metadata": {
    "editable": false,
    "slideshow": {
     "slide_type": ""
    },
    "tags": []
   },
   "source": [
    "_Jovyan AI is an AI copilot for data science and machine learning right inside JupyterLab._\n",
    "\n",
    "This notebook is a step-by-step guide to use Jovyan."
   ]
  },
  {
   "cell_type": "markdown",
   "metadata": {
    "cellUniqueIdByVincent": "95637",
    "editable": false,
    "slideshow": {
     "slide_type": ""
    },
    "tags": []
   },
   "source": [
    "## Data"
   ]
  },
  {
   "cell_type": "markdown",
   "metadata": {
    "editable": false,
    "slideshow": {
     "slide_type": ""
    },
    "tags": []
   },
   "source": [
    "For this tutorial, we will use a Kaggle Playground competition dataset.  \n",
    "The topic is to __Predict Calorie Expenditure__ ( Season 5, Episode 5) based on individuals characteristics and activities.  \n",
    "__Please execute cells below to load data.__"
   ]
  },
  {
   "cell_type": "code",
   "execution_count": null,
   "metadata": {
    "editable": true,
    "slideshow": {
     "slide_type": ""
    },
    "tags": []
   },
   "outputs": [],
   "source": [
    "import pandas as pd"
   ]
  },
  {
   "cell_type": "code",
   "execution_count": null,
   "metadata": {
    "editable": true,
    "slideshow": {
     "slide_type": ""
    },
    "tags": []
   },
   "outputs": [],
   "source": [
    "data = pd.read_csv('sample_data/train.csv')"
   ]
  },
  {
   "cell_type": "code",
   "execution_count": null,
   "metadata": {
    "editable": false,
    "slideshow": {
     "slide_type": ""
    },
    "tags": []
   },
   "outputs": [],
   "source": [
    "data.columns"
   ]
  },
  {
   "cell_type": "markdown",
   "metadata": {
    "editable": false,
    "slideshow": {
     "slide_type": ""
    },
    "tags": []
   },
   "source": [
    "# Cell Assistant"
   ]
  },
  {
   "cell_type": "markdown",
   "metadata": {
    "editable": false,
    "slideshow": {
     "slide_type": ""
    },
    "tags": []
   },
   "source": [
    "## Generate code"
   ]
  },
  {
   "cell_type": "markdown",
   "metadata": {
    "editable": false,
    "slideshow": {
     "slide_type": ""
    },
    "tags": []
   },
   "source": [
    "Jovyan Cell Assistant is integrated inside each cell of the notebook.  \n",
    "It is ideal for generating or modifying code quickly without leaving your flow.  \n",
    "Let's start with an example.\n",
    "\n",
    "__Select the cell below__, you can then see a blue button \"Generate\". You can click on that button to open the prompt area. \n",
    "\n",
    "You can then ask Jovyan to generate a grid on 2 columns of distribution charts for all the columns.  \n",
    "You can copy this prompt example:\n",
    "```text\n",
    "Generate a grid (on 2 columns) of chart of distribution for all the columns\n",
    "```\n",
    "You can click __\"Submit\"__ to send the request. Once the code is generated, you can choose __\"Accept and Run\"__ to execute the code.\n"
   ]
  },
  {
   "cell_type": "code",
   "execution_count": null,
   "metadata": {
    "editable": true,
    "slideshow": {
     "slide_type": ""
    },
    "tags": []
   },
   "outputs": [],
   "source": []
  },
  {
   "cell_type": "markdown",
   "metadata": {
    "editable": false,
    "slideshow": {
     "slide_type": ""
    },
    "tags": []
   },
   "source": [
    "## Modify code"
   ]
  },
  {
   "cell_type": "markdown",
   "metadata": {
    "editable": false,
    "slideshow": {
     "slide_type": ""
    },
    "tags": []
   },
   "source": [
    "You have generated your first cell with Jovyan! \n",
    "Now let's try the __Modify Code__ feature.\n",
    "\n",
    "Please select the cell with all the charts above, in the input area, can you see that the button has become __Modify__? Now you can click on that button to open the cell assistant again. \n",
    "\n",
    "__Challenge__ : ask the assistant to \"make the charts more colorful\" for instance. You should see a new code is generated and you can review the diff and decide to keep or reject the solution."
   ]
  },
  {
   "cell_type": "markdown",
   "metadata": {
    "editable": false,
    "slideshow": {
     "slide_type": ""
    },
    "tags": []
   },
   "source": [
    "## Shortcuts"
   ]
  },
  {
   "cell_type": "markdown",
   "metadata": {
    "editable": false,
    "slideshow": {
     "slide_type": ""
    },
    "tags": []
   },
   "source": [
    "All the features above have shortcuts so you can stay in the flow:\n",
    "* Activate cell assistant - __Cmd+K__(Mac) or __Ctrl+K__(Linux/Windows)\n",
    "* Send request - __Enter__ or Cancel - __Escape__\n",
    "* Review code with 3 options:\n",
    "  - Accept and Run : __Shift + Enter__\n",
    "  - Reject : __Escape__\n",
    "  - Accept only: __Enter__\n",
    "\n",
    "Challenge : Select the cell below and ask the assistant to split data into train/test __using only shortcuts__"
   ]
  },
  {
   "cell_type": "code",
   "execution_count": null,
   "metadata": {
    "editable": true,
    "slideshow": {
     "slide_type": ""
    },
    "tags": []
   },
   "outputs": [],
   "source": [
    "### Generate code here with only shortcuts"
   ]
  },
  {
   "cell_type": "markdown",
   "metadata": {
    "editable": false,
    "slideshow": {
     "slide_type": ""
    },
    "tags": []
   },
   "source": [
    "# Chat Assistant"
   ]
  },
  {
   "cell_type": "markdown",
   "metadata": {
    "editable": false,
    "slideshow": {
     "slide_type": ""
    },
    "tags": []
   },
   "source": [
    "__Jovyan Chat Assistant__ is integrated in the side bar. \n",
    "\n",
    "You can activate it with shortcut __Option+B__ (Mac) or __Alt+B__ (Linux/Windows).  \n",
    "Another option is to click on the Jovyan AI's icon in the right sidebar."
   ]
  },
  {
   "cell_type": "markdown",
   "metadata": {
    "editable": false,
    "slideshow": {
     "slide_type": ""
    },
    "tags": []
   },
   "source": [
    "The Chat Assistant can read and reason over all the cells in your notebook.  \n",
    "It is an excellent tool for review the notebook and brainstorm."
   ]
  },
  {
   "cell_type": "markdown",
   "metadata": {
    "editable": false,
    "slideshow": {
     "slide_type": ""
    },
    "tags": []
   },
   "source": [
    "## Brainstorm with Chat Assistant.\n",
    "__Challenge__: Activate the chat Assistant and ask it \n",
    "```\n",
    "Analyse the notebook and proposes 3 machine learning models that would perform best on this dataset\n",
    "```"
   ]
  },
  {
   "cell_type": "markdown",
   "metadata": {
    "editable": false,
    "slideshow": {
     "slide_type": ""
    },
    "tags": []
   },
   "source": [
    "## Fix Error with Chat Assistant\n",
    "\n",
    "Sometimes, bugs in data science code can \"fail silently\". It means it seems to run but the models do not perform well.   \n",
    "\n",
    "Chat Assistant is particularly useful is such a case because it can spot issues our eyes may not catch."
   ]
  },
  {
   "cell_type": "markdown",
   "metadata": {
    "editable": false,
    "slideshow": {
     "slide_type": ""
    },
    "tags": []
   },
   "source": [
    "__First please execute the cell below__"
   ]
  },
  {
   "cell_type": "code",
   "execution_count": 10,
   "metadata": {
    "editable": true,
    "slideshow": {
     "slide_type": ""
    },
    "tags": []
   },
   "outputs": [
    {
     "name": "stdout",
     "output_type": "stream",
     "text": [
      "Linear Regression Model Performance (using Pipeline):\n",
      "Mean Squared Error (MSE): 2033.083496567852\n",
      "Root Mean Squared Error (RMSE): 45.08972717335793\n",
      "R-squared (R2): 0.4754166342334265\n"
     ]
    }
   ],
   "source": [
    "from sklearn.linear_model import LinearRegression\n",
    "from sklearn.metrics import mean_squared_error, r2_score\n",
    "from sklearn.model_selection import train_test_split\n",
    "from sklearn.compose import ColumnTransformer\n",
    "from sklearn.preprocessing import OneHotEncoder, StandardScaler, MinMaxScaler\n",
    "from sklearn.pipeline import Pipeline\n",
    "import numpy as np\n",
    "\n",
    "# Identify categorical and numerical features\n",
    "categorical_features = ['Sex']\n",
    "numerical_features = ['Age', 'Height', 'Weight', 'Duration', 'Heart_Rate',\n",
    "       'Body_Temp']\n",
    "\n",
    "# Create preprocessing steps for numerical and categorical features\n",
    "preprocessor = ColumnTransformer(\n",
    "    transformers=[\n",
    "        ('num', StandardScaler(), numerical_features),\n",
    "        ('cat', OneHotEncoder(handle_unknown='ignore', drop='first'), categorical_features) # drop='first' avoids multicollinearity\n",
    "    ],\n",
    ")\n",
    "\n",
    "# Create the pipeline with preprocessing and the model\n",
    "lr_pipeline = Pipeline(steps=[\n",
    "    ('preprocessor', preprocessor),\n",
    "   # Proposed change for the 'regressor' step in the Pipeline\n",
    "    ('regressor', LinearRegression(fit_intercept=False))\n",
    "])\n",
    "\n",
    "# Fit the pipeline to the training data\n",
    "lr_pipeline.fit(X_train, y_train)\n",
    "\n",
    "# Make predictions on the test data\n",
    "y_pred = lr_pipeline.predict(X_test)\n",
    "\n",
    "# Evaluate the model\n",
    "mse = mean_squared_error(y_test, y_pred)\n",
    "rmse = np.sqrt(mse)\n",
    "r2 = r2_score(y_test, y_pred)\n",
    "\n",
    "print(\"Linear Regression Model Performance (using Pipeline):\")\n",
    "print(f\"Mean Squared Error (MSE): {mse}\")\n",
    "print(f\"Root Mean Squared Error (RMSE): {rmse}\")\n",
    "print(f\"R-squared (R2): {r2}\")\n"
   ]
  },
  {
   "cell_type": "markdown",
   "metadata": {
    "editable": false,
    "slideshow": {
     "slide_type": ""
    },
    "tags": []
   },
   "source": [
    "__Ask Jovyan for review__"
   ]
  },
  {
   "cell_type": "markdown",
   "metadata": {
    "editable": false,
    "slideshow": {
     "slide_type": ""
    },
    "tags": []
   },
   "source": [
    "This model achieve an R2 of 0.45-0.5 which is not bad, but comparing to other solution on the leaderboard it is surprisingly bad.\n",
    "\n",
    "__Challenge__: Ask Jovyan to investigate this cell and check if it can detect the issue.  \n",
    "Select the cell and use __Option+L__ (Mac) or __Alt+L__ (Linux/Windows) to make the Chat Assistant focus on it.\n",
    "Prompt example:\n",
    "```\n",
    "Review this cell, I suspect some issues because the performance is worse than expected\n",
    "```"
   ]
  },
  {
   "cell_type": "markdown",
   "metadata": {
    "editable": false,
    "slideshow": {
     "slide_type": ""
    },
    "tags": []
   },
   "source": [
    "__Hint__: After fixing the issue, the R2 score should go up to above 0.95!!"
   ]
  },
  {
   "cell_type": "markdown",
   "metadata": {
    "editable": false,
    "slideshow": {
     "slide_type": ""
    },
    "tags": []
   },
   "source": [
    "# Next steps"
   ]
  },
  {
   "cell_type": "markdown",
   "metadata": {
    "editable": false,
    "slideshow": {
     "slide_type": ""
    },
    "tags": []
   },
   "source": [
    "__Congratulations!__ You are now familiar with Jovyan AI features.  \n",
    "Few free to play around in this demo, but please note that the compute ressources here is limited and this environment is not secure to use your data."
   ]
  },
  {
   "cell_type": "markdown",
   "metadata": {
    "editable": false,
    "slideshow": {
     "slide_type": ""
    },
    "tags": []
   },
   "source": [
    "To start leveraging the full power of Jovyan AI, checkout the steps to\n",
    "- Install on your local JupyterLab [HERE](https://doc.jovyan-ai.com/installation/local.html)\n",
    "- Or use it directly on Google Colab [HERE](https://doc.jovyan-ai.com/installation/colab.html)"
   ]
  }
 ],
 "metadata": {
  "kernelspec": {
   "display_name": "Python 3 (ipykernel)",
   "language": "python",
   "name": "python3"
  },
  "language_info": {
   "codemirror_mode": {
    "name": "ipython",
    "version": 3
   },
   "file_extension": ".py",
   "mimetype": "text/x-python",
   "name": "python",
   "nbconvert_exporter": "python",
   "pygments_lexer": "ipython3",
   "version": "3.12.9"
  },
  "vincent": {
   "sessionId": "d25543e2c18f5abefe25a3d5_2025-05-02T07-58-00-201Z"
  }
 },
 "nbformat": 4,
 "nbformat_minor": 4
}
